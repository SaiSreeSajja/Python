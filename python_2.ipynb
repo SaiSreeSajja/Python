{
 "cells": [
  {
   "cell_type": "code",
   "execution_count": 2,
   "id": "7a714449",
   "metadata": {},
   "outputs": [
    {
     "name": "stdout",
     "output_type": "stream",
     "text": [
      "Welcome\n",
      "Welcome\n",
      "2129102078160 2129102078160\n"
     ]
    }
   ],
   "source": [
    "def greets():\n",
    "    print(\"Welcome\")\n",
    "wish=greets\n",
    "greets()\n",
    "wish()\n",
    "#function aliasing\n",
    "print(id(wish),id(greets))"
   ]
  },
  {
   "cell_type": "code",
   "execution_count": 3,
   "id": "77f3826f",
   "metadata": {},
   "outputs": [
    {
     "name": "stdout",
     "output_type": "stream",
     "text": [
      "in outer\n",
      "in inner\n"
     ]
    }
   ],
   "source": [
    "def outer():\n",
    "    print(\"in outer\")\n",
    "    def inner():\n",
    "        print(\"in inner\")\n",
    "    inner()\n",
    "outer()\n",
    "#inner() funtion can not be called outside of outer function"
   ]
  },
  {
   "cell_type": "code",
   "execution_count": 5,
   "id": "4c1cf479",
   "metadata": {},
   "outputs": [
    {
     "name": "stdout",
     "output_type": "stream",
     "text": [
      "in outer\n",
      "in inner\n"
     ]
    }
   ],
   "source": [
    "def outer():\n",
    "    print(\"in outer\")\n",
    "    def inner():\n",
    "        print(\"in inner\")\n",
    "    return inner\n",
    "x=outer()\n",
    "x()"
   ]
  },
  {
   "cell_type": "code",
   "execution_count": 7,
   "id": "94ee1b92",
   "metadata": {},
   "outputs": [
    {
     "name": "stdout",
     "output_type": "stream",
     "text": [
      "['__doc__', '__loader__', '__name__', '__package__', '__spec__', 'acos', 'acosh', 'asin', 'asinh', 'atan', 'atan2', 'atanh', 'ceil', 'comb', 'copysign', 'cos', 'cosh', 'degrees', 'dist', 'e', 'erf', 'erfc', 'exp', 'expm1', 'fabs', 'factorial', 'floor', 'fmod', 'frexp', 'fsum', 'gamma', 'gcd', 'hypot', 'inf', 'isclose', 'isfinite', 'isinf', 'isnan', 'isqrt', 'lcm', 'ldexp', 'lgamma', 'log', 'log10', 'log1p', 'log2', 'modf', 'nan', 'nextafter', 'perm', 'pi', 'pow', 'prod', 'radians', 'remainder', 'sin', 'sinh', 'sqrt', 'tan', 'tanh', 'tau', 'trunc', 'ulp']\n"
     ]
    }
   ],
   "source": [
    "import math\n",
    "print(dir(math))"
   ]
  },
  {
   "cell_type": "code",
   "execution_count": 8,
   "id": "402c38ea",
   "metadata": {},
   "outputs": [
    {
     "name": "stdout",
     "output_type": "stream",
     "text": [
      "0.09573244172321527\n"
     ]
    }
   ],
   "source": [
    "import random as r\n",
    "print(r.random())"
   ]
  },
  {
   "cell_type": "code",
   "execution_count": 9,
   "id": "2e2b341a",
   "metadata": {},
   "outputs": [
    {
     "name": "stdout",
     "output_type": "stream",
     "text": [
      "9\n"
     ]
    }
   ],
   "source": [
    "print(r.randint(1,10))"
   ]
  },
  {
   "cell_type": "code",
   "execution_count": 11,
   "id": "e3618042",
   "metadata": {},
   "outputs": [
    {
     "data": {
      "text/plain": [
       "8.546011969309994"
      ]
     },
     "execution_count": 11,
     "metadata": {},
     "output_type": "execute_result"
    }
   ],
   "source": [
    "r.uniform(1,10)"
   ]
  },
  {
   "cell_type": "code",
   "execution_count": 13,
   "id": "7bd758f0",
   "metadata": {},
   "outputs": [
    {
     "data": {
      "text/plain": [
       "3"
      ]
     },
     "execution_count": 13,
     "metadata": {},
     "output_type": "execute_result"
    }
   ],
   "source": [
    "r.randrange(1,11,2)"
   ]
  },
  {
   "cell_type": "code",
   "execution_count": 14,
   "id": "0d3e0f1f",
   "metadata": {},
   "outputs": [
    {
     "data": {
      "text/plain": [
       "'sdsd'"
      ]
     },
     "execution_count": 14,
     "metadata": {},
     "output_type": "execute_result"
    }
   ],
   "source": [
    "r.choice(['1','a','fe','sdsd'])"
   ]
  },
  {
   "cell_type": "code",
   "execution_count": 15,
   "id": "ef17fe7e",
   "metadata": {},
   "outputs": [
    {
     "name": "stdout",
     "output_type": "stream",
     "text": [
      "{'x': 10, 'y': 5}\n",
      "{'x': 10, 'y': 5, 'z': 2}\n"
     ]
    }
   ],
   "source": [
    "class Test:\n",
    "    def __init__(self,x,y):\n",
    "        self.x=x\n",
    "        self.y=y\n",
    "    def hlo(self,z):\n",
    "        self.z=z\n",
    "m=Test(10,5)\n",
    "print(m.__dict__)\n",
    "m.hlo(2)\n",
    "print(m.__dict__)"
   ]
  },
  {
   "cell_type": "code",
   "execution_count": 16,
   "id": "27298fde",
   "metadata": {},
   "outputs": [
    {
     "name": "stdout",
     "output_type": "stream",
     "text": [
      "{'x': 10, 'y': 5, 'z': 2, 'd': 40}\n"
     ]
    }
   ],
   "source": [
    "m.d=40\n",
    "print(m.__dict__)"
   ]
  },
  {
   "cell_type": "code",
   "execution_count": 20,
   "id": "40606bcc",
   "metadata": {},
   "outputs": [
    {
     "name": "stdout",
     "output_type": "stream",
     "text": [
      "10\n",
      "10\n",
      "10\n",
      "100\n",
      "110\n"
     ]
    }
   ],
   "source": [
    "class Tell:\n",
    "    a=10\n",
    "    def __init__(self):\n",
    "        print(self.a)\n",
    "        print(Tell.a)\n",
    "    @classmethod\n",
    "    def m1(cls):\n",
    "        print(cls.a)\n",
    "        Tell.a=100\n",
    "        print(Tell.a)\n",
    "    @staticmethod\n",
    "    def m2():\n",
    "        Tell.a+=10\n",
    "        print(Tell.a)\n",
    "        \n",
    "t=Tell()\n",
    "t.m1()\n",
    "t.m2()"
   ]
  },
  {
   "cell_type": "code",
   "execution_count": 23,
   "id": "633512b0",
   "metadata": {},
   "outputs": [
    {
     "name": "stdout",
     "output_type": "stream",
     "text": [
      "20\n",
      "Sai Sree\n"
     ]
    }
   ],
   "source": [
    "class Student:\n",
    "    def __init__(self,n,a):\n",
    "        self.name=n\n",
    "        self.age=a\n",
    "    def getName(self):\n",
    "        return self.name\n",
    "    def getAge(self):\n",
    "        return self.age\n",
    "    def setName(self,n):\n",
    "        self.name=n\n",
    "    def setAge(self,a):\n",
    "        self.age=a\n",
    "s=Student(\"Sree\",20)\n",
    "print(s.getAge())\n",
    "s.setName(\"Sai Sree\")\n",
    "print(s.getName())"
   ]
  },
  {
   "cell_type": "code",
   "execution_count": 27,
   "id": "b7863b39",
   "metadata": {},
   "outputs": [
    {
     "name": "stdout",
     "output_type": "stream",
     "text": [
      "10\n",
      "hlo\n"
     ]
    }
   ],
   "source": [
    "class Tell:\n",
    "    a=10\n",
    "    @classmethod\n",
    "    def m1(cls):\n",
    "        print(cls.a)\n",
    "    @staticmethod\n",
    "    def m2():\n",
    "        print(\"hlo\")\n",
    "t=Tell()\n",
    "t.m1()\n",
    "t.m2()\n"
   ]
  },
  {
   "cell_type": "code",
   "execution_count": 28,
   "id": "55e1a35e",
   "metadata": {},
   "outputs": [
    {
     "name": "stdout",
     "output_type": "stream",
     "text": [
      "10\n"
     ]
    }
   ],
   "source": [
    "Tell.m1()"
   ]
  },
  {
   "cell_type": "code",
   "execution_count": 29,
   "id": "b1dd9241",
   "metadata": {},
   "outputs": [
    {
     "name": "stdout",
     "output_type": "stream",
     "text": [
      "hlo\n"
     ]
    }
   ],
   "source": [
    "Tell.m2()"
   ]
  },
  {
   "cell_type": "code",
   "execution_count": 31,
   "id": "86111d69",
   "metadata": {},
   "outputs": [
    {
     "name": "stdout",
     "output_type": "stream",
     "text": [
      "21\n",
      "Hema\n"
     ]
    }
   ],
   "source": [
    "class Student:\n",
    "    def __init__(self,n,a):\n",
    "        self.name=n\n",
    "        self.age=a\n",
    "    def getName(self):\n",
    "        return self.name\n",
    "    def getAge(self):\n",
    "        return self.age\n",
    "    def setName(self,n):\n",
    "        self.name=n\n",
    "    def setAge(self,a):\n",
    "        self.age=a\n",
    "class Bday():\n",
    "    def display(t):\n",
    "        t.age+=1\n",
    "        print(t.getAge())\n",
    "        print(t.getName())\n",
    "s=Student(\"Hema\",20)\n",
    "Bday.display(s)"
   ]
  },
  {
   "cell_type": "code",
   "execution_count": 33,
   "id": "f9d4c7e8",
   "metadata": {},
   "outputs": [
    {
     "name": "stdout",
     "output_type": "stream",
     "text": [
      "Sree\n",
      "2004\n"
     ]
    }
   ],
   "source": [
    "class Person:\n",
    "    def __init__(self,name,age):\n",
    "        self.name=name\n",
    "        self.age=self.Age(age)\n",
    "    def display(self):\n",
    "        print(self.name)\n",
    "    class Age:\n",
    "        def __init__(self,yr):\n",
    "            self.yr=2024-yr\n",
    "        def display(self):\n",
    "            print(self.yr)\n",
    "p=Person(\"Sree\",20)\n",
    "p.display()\n",
    "x=p.age\n",
    "x.display()"
   ]
  },
  {
   "cell_type": "code",
   "execution_count": 35,
   "id": "08d6c40d",
   "metadata": {},
   "outputs": [
    {
     "data": {
      "text/plain": [
       "True"
      ]
     },
     "execution_count": 35,
     "metadata": {},
     "output_type": "execute_result"
    }
   ],
   "source": [
    "import gc#garbage collector\n",
    "gc.isenabled()"
   ]
  },
  {
   "cell_type": "code",
   "execution_count": 36,
   "id": "6e8f5348",
   "metadata": {},
   "outputs": [],
   "source": [
    "gc.disable()#to disable"
   ]
  },
  {
   "cell_type": "code",
   "execution_count": 37,
   "id": "c6eb6bc9",
   "metadata": {},
   "outputs": [
    {
     "data": {
      "text/plain": [
       "False"
      ]
     },
     "execution_count": 37,
     "metadata": {},
     "output_type": "execute_result"
    }
   ],
   "source": [
    "gc.isenabled()"
   ]
  },
  {
   "cell_type": "code",
   "execution_count": 39,
   "id": "ce45e0ee",
   "metadata": {},
   "outputs": [],
   "source": [
    "gc.enable()"
   ]
  },
  {
   "cell_type": "code",
   "execution_count": 40,
   "id": "b0f7e1d8",
   "metadata": {},
   "outputs": [
    {
     "data": {
      "text/plain": [
       "True"
      ]
     },
     "execution_count": 40,
     "metadata": {},
     "output_type": "execute_result"
    }
   ],
   "source": [
    "gc.isenabled()"
   ]
  },
  {
   "cell_type": "code",
   "execution_count": 41,
   "id": "ee9a8cac",
   "metadata": {},
   "outputs": [
    {
     "name": "stdout",
     "output_type": "stream",
     "text": [
      "obj created\n",
      "obj deleted\n",
      "obj created\n",
      "obj deleted\n"
     ]
    }
   ],
   "source": [
    "class Test:\n",
    "    def __init__(self):\n",
    "        print(\"obj created\")\n",
    "    def __del__(self):\n",
    "        print(\"obj deleted\")\n",
    "t=Test()\n",
    "t=None\n",
    "t1=Test()\n",
    "del t1"
   ]
  },
  {
   "cell_type": "code",
   "execution_count": 44,
   "id": "b085e172",
   "metadata": {},
   "outputs": [
    {
     "name": "stdout",
     "output_type": "stream",
     "text": [
      "2\n"
     ]
    }
   ],
   "source": [
    "import sys\n",
    "print(sys.getrefcount(s))"
   ]
  },
  {
   "cell_type": "code",
   "execution_count": 54,
   "id": "d020f374",
   "metadata": {},
   "outputs": [
    {
     "name": "stdout",
     "output_type": "stream",
     "text": [
      "0\n",
      "Dont give zero as input\n",
      "Done\n"
     ]
    }
   ],
   "source": [
    "try:\n",
    "    print(10/int(input()))\n",
    "except ZeroDivisionError:\n",
    "    print(\"Dont give zero as input\")\n",
    "except ValueError:\n",
    "    print(\"Give integer\")\n",
    "except:\n",
    "    print(\"Error\")\n",
    "finally:\n",
    "    print(\"Done\")"
   ]
  },
  {
   "cell_type": "code",
   "execution_count": 56,
   "id": "de316d0b",
   "metadata": {},
   "outputs": [
    {
     "name": "stdout",
     "output_type": "stream",
     "text": [
      "1\n"
     ]
    },
    {
     "ename": "NotEligibleException",
     "evalue": "You dont have vote",
     "output_type": "error",
     "traceback": [
      "\u001b[1;31m---------------------------------------------------------------------------\u001b[0m",
      "\u001b[1;31mNotEligibleException\u001b[0m                      Traceback (most recent call last)",
      "\u001b[1;32mC:\\PROGRA~1\\KMSpico\\temp/ipykernel_13148/2831520728.py\u001b[0m in \u001b[0;36m<module>\u001b[1;34m\u001b[0m\n\u001b[0;32m      4\u001b[0m \u001b[0mage\u001b[0m\u001b[1;33m=\u001b[0m\u001b[0mint\u001b[0m\u001b[1;33m(\u001b[0m\u001b[0minput\u001b[0m\u001b[1;33m(\u001b[0m\u001b[1;33m)\u001b[0m\u001b[1;33m)\u001b[0m\u001b[1;33m\u001b[0m\u001b[1;33m\u001b[0m\u001b[0m\n\u001b[0;32m      5\u001b[0m \u001b[1;32mif\u001b[0m \u001b[0mage\u001b[0m\u001b[1;33m<\u001b[0m\u001b[1;36m18\u001b[0m\u001b[1;33m:\u001b[0m\u001b[1;33m\u001b[0m\u001b[1;33m\u001b[0m\u001b[0m\n\u001b[1;32m----> 6\u001b[1;33m     \u001b[1;32mraise\u001b[0m \u001b[0mNotEligibleException\u001b[0m\u001b[1;33m(\u001b[0m\u001b[1;34m\"You dont have vote\"\u001b[0m\u001b[1;33m)\u001b[0m\u001b[1;33m\u001b[0m\u001b[1;33m\u001b[0m\u001b[0m\n\u001b[0m\u001b[0;32m      7\u001b[0m \u001b[1;32melse\u001b[0m\u001b[1;33m:\u001b[0m\u001b[1;33m\u001b[0m\u001b[1;33m\u001b[0m\u001b[0m\n\u001b[0;32m      8\u001b[0m     \u001b[0mprint\u001b[0m\u001b[1;33m(\u001b[0m\u001b[1;34m\"Welcome\"\u001b[0m\u001b[1;33m)\u001b[0m\u001b[1;33m\u001b[0m\u001b[1;33m\u001b[0m\u001b[0m\n",
      "\u001b[1;31mNotEligibleException\u001b[0m: You dont have vote"
     ]
    }
   ],
   "source": [
    "class NotEligibleException(Exception):\n",
    "    def __init__(self,arg):\n",
    "        self.msg=arg\n",
    "age=int(input())\n",
    "if age<18:\n",
    "    raise NotEligibleException(\"You dont have vote\")\n",
    "else:\n",
    "    print(\"Welcome\")"
   ]
  },
  {
   "cell_type": "code",
   "execution_count": 58,
   "id": "31c558b6",
   "metadata": {},
   "outputs": [
    {
     "name": "stdout",
     "output_type": "stream",
     "text": [
      "10\n",
      "Negative val: -9\n"
     ]
    }
   ],
   "source": [
    "#decorator\n",
    "def decfun(func):\n",
    "    def inner(a):\n",
    "        if a<0:\n",
    "            print(\"Negative val:\",a)\n",
    "        else:\n",
    "            return func(a)\n",
    "    return inner\n",
    "@decfun\n",
    "def fun(a):\n",
    "    print(a)\n",
    "\n",
    "fun(10)\n",
    "fun(-9)"
   ]
  },
  {
   "cell_type": "code",
   "execution_count": 59,
   "id": "f46c1a8e",
   "metadata": {},
   "outputs": [
    {
     "name": "stdout",
     "output_type": "stream",
     "text": [
      "-9\n",
      "Negative val: -9\n"
     ]
    }
   ],
   "source": [
    "#decorator\n",
    "def decfun(func):\n",
    "    def inner(a):\n",
    "        if a<0:\n",
    "            print(\"Negative val:\",a)\n",
    "        else:\n",
    "            return func(a)\n",
    "    return inner\n",
    "\n",
    "def fun(a):\n",
    "    print(a)\n",
    "\n",
    "decorfunction=decfun(fun)\n",
    "\n",
    "\n",
    "fun(-9)\n",
    "decorfunction(-9)"
   ]
  },
  {
   "cell_type": "code",
   "execution_count": 60,
   "id": "4442156e",
   "metadata": {},
   "outputs": [
    {
     "name": "stdout",
     "output_type": "stream",
     "text": [
      "hair styling\n",
      "makeup\n",
      "Ready\n"
     ]
    }
   ],
   "source": [
    "def readying(func):\n",
    "    def inner():\n",
    "        print(\"hair styling\")\n",
    "        print(\"makeup\")\n",
    "        func()\n",
    "    return inner\n",
    "@readying\n",
    "def getReady():\n",
    "    print(\"Ready\")\n",
    "    \n",
    "getReady()"
   ]
  },
  {
   "cell_type": "code",
   "execution_count": 63,
   "id": "7f9ffb1d",
   "metadata": {},
   "outputs": [],
   "source": [
    "def decor1(func):\n",
    "    def inner():\n",
    "        x=func()\n",
    "        print(x)\n",
    "        return x*x\n",
    "    return inner\n",
    "def decor(func):\n",
    "    def inner():\n",
    "        x=func()\n",
    "        print(x)\n",
    "        return x**2\n",
    "    return inner\n",
    "@decor1\n",
    "@decor\n",
    "def num():\n",
    "    return 10\n"
   ]
  },
  {
   "cell_type": "code",
   "execution_count": 64,
   "id": "f8a127aa",
   "metadata": {},
   "outputs": [
    {
     "name": "stdout",
     "output_type": "stream",
     "text": [
      "10\n",
      "100\n"
     ]
    },
    {
     "data": {
      "text/plain": [
       "10000"
      ]
     },
     "execution_count": 64,
     "metadata": {},
     "output_type": "execute_result"
    }
   ],
   "source": [
    "num()"
   ]
  },
  {
   "cell_type": "code",
   "execution_count": 73,
   "id": "b63cacbb",
   "metadata": {},
   "outputs": [
    {
     "name": "stdout",
     "output_type": "stream",
     "text": [
      "1\n",
      "a\n",
      "1\n",
      "a\n"
     ]
    }
   ],
   "source": [
    "#generator\n",
    "def mygen():\n",
    "    yield 1\n",
    "    yield 'a'\n",
    "x=list(mygen())\n",
    "for i in x:\n",
    "    print(i)\n",
    "g=mygen()\n",
    "print(next(g))\n",
    "print(next(g))"
   ]
  },
  {
   "cell_type": "code",
   "execution_count": 75,
   "id": "a26b56e7",
   "metadata": {},
   "outputs": [
    {
     "name": "stdout",
     "output_type": "stream",
     "text": [
      "1\n",
      "a\n"
     ]
    }
   ],
   "source": [
    "g=mygen()\n",
    "for i in g:\n",
    "    print(i)"
   ]
  },
  {
   "cell_type": "code",
   "execution_count": 76,
   "id": "b858222b",
   "metadata": {},
   "outputs": [
    {
     "ename": "AssertionError",
     "evalue": "sq of 3 is 9",
     "output_type": "error",
     "traceback": [
      "\u001b[1;31m---------------------------------------------------------------------------\u001b[0m",
      "\u001b[1;31mAssertionError\u001b[0m                            Traceback (most recent call last)",
      "\u001b[1;32mC:\\PROGRA~1\\KMSpico\\temp/ipykernel_13148/1645588751.py\u001b[0m in \u001b[0;36m<module>\u001b[1;34m\u001b[0m\n\u001b[0;32m      2\u001b[0m     \u001b[1;32mreturn\u001b[0m \u001b[0mx\u001b[0m\u001b[1;33m*\u001b[0m\u001b[1;36m2\u001b[0m\u001b[1;33m\u001b[0m\u001b[1;33m\u001b[0m\u001b[0m\n\u001b[0;32m      3\u001b[0m \u001b[1;32massert\u001b[0m \u001b[0msq\u001b[0m\u001b[1;33m(\u001b[0m\u001b[1;36m2\u001b[0m\u001b[1;33m)\u001b[0m\u001b[1;33m==\u001b[0m\u001b[1;36m4\u001b[0m\u001b[1;33m,\u001b[0m\u001b[1;34m\"sq of 2 is 4\"\u001b[0m\u001b[1;33m\u001b[0m\u001b[1;33m\u001b[0m\u001b[0m\n\u001b[1;32m----> 4\u001b[1;33m \u001b[1;32massert\u001b[0m \u001b[0msq\u001b[0m\u001b[1;33m(\u001b[0m\u001b[1;36m3\u001b[0m\u001b[1;33m)\u001b[0m\u001b[1;33m==\u001b[0m\u001b[1;36m9\u001b[0m\u001b[1;33m,\u001b[0m\u001b[1;34m\"sq of 3 is 9\"\u001b[0m\u001b[1;33m\u001b[0m\u001b[1;33m\u001b[0m\u001b[0m\n\u001b[0m\u001b[0;32m      5\u001b[0m \u001b[0mprint\u001b[0m\u001b[1;33m(\u001b[0m\u001b[0msq\u001b[0m\u001b[1;33m(\u001b[0m\u001b[1;36m2\u001b[0m\u001b[1;33m)\u001b[0m\u001b[1;33m)\u001b[0m\u001b[1;33m\u001b[0m\u001b[1;33m\u001b[0m\u001b[0m\n",
      "\u001b[1;31mAssertionError\u001b[0m: sq of 3 is 9"
     ]
    }
   ],
   "source": [
    "def sq(x):\n",
    "    return x*2\n",
    "assert sq(2)==4,\"sq of 2 is 4\"\n",
    "assert sq(3)==9,\"sq of 3 is 9\"\n",
    "print(sq(2))"
   ]
  },
  {
   "cell_type": "code",
   "execution_count": 79,
   "id": "81462e7e",
   "metadata": {},
   "outputs": [
    {
     "data": {
      "text/plain": [
       "'good morning'"
      ]
     },
     "execution_count": 79,
     "metadata": {},
     "output_type": "execute_result"
    }
   ],
   "source": [
    "f=open('C:\\\\Users\\\\Windows 10\\\\Desktop\\\\ts\\\\textbook.txt','r')\n",
    "f.read()"
   ]
  },
  {
   "cell_type": "code",
   "execution_count": 80,
   "id": "3420a793",
   "metadata": {},
   "outputs": [],
   "source": [
    "f.close()"
   ]
  },
  {
   "cell_type": "code",
   "execution_count": 86,
   "id": "b7693606",
   "metadata": {},
   "outputs": [],
   "source": [
    "f=open('C:\\\\Users\\\\Windows 10\\\\Desktop\\\\ts\\\\textbook.txt','w')\n",
    "l=[\"Welcome\\n\",\"Here we go\\n\",\"These are objects\\n\",\"Thankyou\"]\n",
    "f.writelines(l)\n",
    "f.close()"
   ]
  },
  {
   "cell_type": "code",
   "execution_count": 87,
   "id": "0b42dae8",
   "metadata": {},
   "outputs": [
    {
     "data": {
      "text/plain": [
       "'Welcome\\nHere we go\\nThese are objects\\nThankyou'"
      ]
     },
     "execution_count": 87,
     "metadata": {},
     "output_type": "execute_result"
    }
   ],
   "source": [
    "f=open('C:\\\\Users\\\\Windows 10\\\\Desktop\\\\ts\\\\textbook.txt','r')\n",
    "f.read()"
   ]
  },
  {
   "cell_type": "code",
   "execution_count": 88,
   "id": "3900d2b8",
   "metadata": {},
   "outputs": [],
   "source": [
    "f.close()"
   ]
  },
  {
   "cell_type": "code",
   "execution_count": 89,
   "id": "f19c1a84",
   "metadata": {},
   "outputs": [
    {
     "name": "stdout",
     "output_type": "stream",
     "text": [
      "Welcome\n",
      "\n",
      "Here we go\n",
      "\n",
      "These are objects\n",
      "\n",
      "Thankyou\n"
     ]
    }
   ],
   "source": [
    "f=open('C:\\\\Users\\\\Windows 10\\\\Desktop\\\\ts\\\\textbook.txt','r')\n",
    "l=f.readlines()\n",
    "for i in l:\n",
    "    print(i)"
   ]
  },
  {
   "cell_type": "code",
   "execution_count": 90,
   "id": "15d80126",
   "metadata": {},
   "outputs": [],
   "source": [
    "f.close()"
   ]
  },
  {
   "cell_type": "code",
   "execution_count": 92,
   "id": "613618d2",
   "metadata": {},
   "outputs": [
    {
     "name": "stdout",
     "output_type": "stream",
     "text": [
      "Welcome\n",
      "Here we go\n",
      "These are objects\n",
      "Thankyou\n",
      "False\n",
      "True\n"
     ]
    }
   ],
   "source": [
    "with open('C:\\\\Users\\\\Windows 10\\\\Desktop\\\\ts\\\\textbook.txt','r') as f:\n",
    "    x=f.read()\n",
    "    print(x)\n",
    "    print(f.closed)\n",
    "print(f.closed)"
   ]
  },
  {
   "cell_type": "code",
   "execution_count": null,
   "id": "13b82187",
   "metadata": {},
   "outputs": [],
   "source": [
    "#seek() tell() pickle.dump(a) pickle.load(a)"
   ]
  },
  {
   "cell_type": "code",
   "execution_count": 94,
   "id": "5d838e72",
   "metadata": {},
   "outputs": [
    {
     "name": "stdout",
     "output_type": "stream",
     "text": [
      "child\n",
      "parent\n"
     ]
    }
   ],
   "source": [
    "class parent:\n",
    "    def dis1(self):\n",
    "        print(\"parent\")\n",
    "class Child(parent):\n",
    "    def dis2(self):\n",
    "        print(\"child\")\n",
    "c=Child()\n",
    "c.dis2()\n",
    "c.dis1()"
   ]
  },
  {
   "cell_type": "code",
   "execution_count": 95,
   "id": "1aae523a",
   "metadata": {},
   "outputs": [
    {
     "name": "stdout",
     "output_type": "stream",
     "text": [
      "child\n",
      "parent\n",
      "Grandpa\n"
     ]
    }
   ],
   "source": [
    "class parent:\n",
    "    def dis1(self):\n",
    "        print(\"parent\")\n",
    "class grandpa:\n",
    "    def dis3(self):\n",
    "        print(\"Grandpa\")\n",
    "class Child(parent,grandpa):\n",
    "    def dis2(self):\n",
    "        print(\"child\")\n",
    "c=Child()\n",
    "c.dis2()\n",
    "c.dis1()\n",
    "c.dis3()"
   ]
  },
  {
   "cell_type": "code",
   "execution_count": 96,
   "id": "8a26bc77",
   "metadata": {},
   "outputs": [
    {
     "name": "stdout",
     "output_type": "stream",
     "text": [
      "child\n",
      "parent\n"
     ]
    }
   ],
   "source": [
    "class parent:\n",
    "    def dis(self):\n",
    "        print(\"parent\")\n",
    "class grandpa:\n",
    "    def dis(self):\n",
    "        print(\"Grandpa\")\n",
    "class Child(parent,grandpa):\n",
    "    def dis2(self):\n",
    "        print(\"child\")\n",
    "c=Child()\n",
    "c.dis2()\n",
    "c.dis()\n"
   ]
  },
  {
   "cell_type": "code",
   "execution_count": 97,
   "id": "51dde49b",
   "metadata": {},
   "outputs": [
    {
     "name": "stdout",
     "output_type": "stream",
     "text": [
      "child\n",
      "Grandpa\n"
     ]
    }
   ],
   "source": [
    "class parent:\n",
    "    def dis(self):\n",
    "        print(\"parent\")\n",
    "class grandpa:\n",
    "    def dis(self):\n",
    "        print(\"Grandpa\")\n",
    "class Child(grandpa,parent):\n",
    "    def dis2(self):\n",
    "        print(\"child\")\n",
    "c=Child()\n",
    "c.dis2()\n",
    "c.dis()\n"
   ]
  },
  {
   "cell_type": "code",
   "execution_count": 99,
   "id": "09aadcd6",
   "metadata": {},
   "outputs": [
    {
     "name": "stdout",
     "output_type": "stream",
     "text": [
      "SS 20 e241\n"
     ]
    }
   ],
   "source": [
    "class Person:\n",
    "    def __init__(self,name,age):\n",
    "        self.name=name\n",
    "        self.age=age\n",
    "    def dis(self):\n",
    "        print(self.name,self.age)\n",
    "class Employee(Person):\n",
    "    def __init__(self,name,age,empid):\n",
    "        super().__init__(name,age)\n",
    "        self.empid=empid\n",
    "    def dis(self):\n",
    "        print(self.name,self.age,self.empid)\n",
    "e=Employee(\"SS\",20,'e241')\n",
    "e.dis()"
   ]
  },
  {
   "cell_type": "code",
   "execution_count": 101,
   "id": "7815ce44",
   "metadata": {},
   "outputs": [
    {
     "name": "stdout",
     "output_type": "stream",
     "text": [
      "m 20\n"
     ]
    }
   ],
   "source": [
    "class Person:\n",
    "    def __init__(self,name,age):\n",
    "        self.name=name\n",
    "        self.age=age\n",
    "    def dis(self):\n",
    "        print(self.name,self.age)\n",
    "    def dis(self,name,age):\n",
    "        print(name,age)\n",
    "p=Person(\"s\",21)\n",
    "#p.dis() wont work\n",
    "p.dis(\"m\",20)"
   ]
  },
  {
   "cell_type": "code",
   "execution_count": 102,
   "id": "b731b377",
   "metadata": {},
   "outputs": [
    {
     "name": "stdout",
     "output_type": "stream",
     "text": [
      "SS 20\n"
     ]
    }
   ],
   "source": [
    "class Person:\n",
    "    def __init__(self,name,age):\n",
    "        self.name=name\n",
    "        self.age=age\n",
    "    def dis1(self):\n",
    "        print(self.name,self.age)\n",
    "class Employee(Person):\n",
    "    def __init__(self,name,age,empid):\n",
    "        super().__init__(name,age)\n",
    "        self.empid=empid\n",
    "    def dis(self):\n",
    "        print(self.name,self.age,self.empid)\n",
    "e=Employee(\"SS\",20,'e241')\n",
    "e.dis1()"
   ]
  },
  {
   "cell_type": "code",
   "execution_count": 103,
   "id": "8183bc9a",
   "metadata": {},
   "outputs": [
    {
     "name": "stdout",
     "output_type": "stream",
     "text": [
      "SS 20 e241\n"
     ]
    }
   ],
   "source": [
    "e.dis()"
   ]
  },
  {
   "cell_type": "code",
   "execution_count": null,
   "id": "941ef584",
   "metadata": {},
   "outputs": [],
   "source": []
  }
 ],
 "metadata": {
  "kernelspec": {
   "display_name": "Python 3 (ipykernel)",
   "language": "python",
   "name": "python3"
  },
  "language_info": {
   "codemirror_mode": {
    "name": "ipython",
    "version": 3
   },
   "file_extension": ".py",
   "mimetype": "text/x-python",
   "name": "python",
   "nbconvert_exporter": "python",
   "pygments_lexer": "ipython3",
   "version": "3.9.7"
  }
 },
 "nbformat": 4,
 "nbformat_minor": 5
}
