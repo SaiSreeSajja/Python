{
 "cells": [
  {
   "cell_type": "code",
   "execution_count": 1,
   "id": "57659c5e",
   "metadata": {},
   "outputs": [
    {
     "name": "stdout",
     "output_type": "stream",
     "text": [
      "Welcome\n"
     ]
    }
   ],
   "source": [
    "print(\"Welcome\")"
   ]
  },
  {
   "cell_type": "code",
   "execution_count": 2,
   "id": "8700a3aa",
   "metadata": {},
   "outputs": [],
   "source": [
    "#Datatypes"
   ]
  },
  {
   "cell_type": "code",
   "execution_count": 6,
   "id": "90a52628",
   "metadata": {},
   "outputs": [
    {
     "name": "stdout",
     "output_type": "stream",
     "text": [
      "10 1\n",
      "<class 'int'>\n"
     ]
    }
   ],
   "source": [
    "a=10\n",
    "b=0B1\n",
    "print(a,b)\n",
    "print(type(b))"
   ]
  },
  {
   "cell_type": "code",
   "execution_count": 7,
   "id": "879efe0b",
   "metadata": {},
   "outputs": [
    {
     "name": "stdout",
     "output_type": "stream",
     "text": [
      "5\n",
      "<class 'int'>\n"
     ]
    }
   ],
   "source": [
    "c=0b101\n",
    "print(c)\n",
    "print(type(c))"
   ]
  },
  {
   "cell_type": "code",
   "execution_count": 10,
   "id": "3e709818",
   "metadata": {},
   "outputs": [
    {
     "name": "stdout",
     "output_type": "stream",
     "text": [
      "8 10\n"
     ]
    }
   ],
   "source": [
    "d=0o10\n",
    "e=0Xa\n",
    "print(d,e)"
   ]
  },
  {
   "cell_type": "code",
   "execution_count": null,
   "id": "b162ca56",
   "metadata": {},
   "outputs": [],
   "source": [
    "bin()\n",
    "oct()\n",
    "hex()"
   ]
  },
  {
   "cell_type": "code",
   "execution_count": 13,
   "id": "15d60a2e",
   "metadata": {},
   "outputs": [
    {
     "name": "stdout",
     "output_type": "stream",
     "text": [
      "(3+6j)\n",
      "3.0 6.0\n"
     ]
    }
   ],
   "source": [
    "a=0B11+6j\n",
    "print(a)\n",
    "#b=3+0B100j not possible\n",
    "print(a.real, a.imag)"
   ]
  },
  {
   "cell_type": "code",
   "execution_count": 14,
   "id": "5aa2f307",
   "metadata": {},
   "outputs": [
    {
     "data": {
      "text/plain": [
       "bool"
      ]
     },
     "execution_count": 14,
     "metadata": {},
     "output_type": "execute_result"
    }
   ],
   "source": [
    "b=True\n",
    "type(b)"
   ]
  },
  {
   "cell_type": "code",
   "execution_count": 15,
   "id": "9c40c23d",
   "metadata": {},
   "outputs": [
    {
     "name": "stdout",
     "output_type": "stream",
     "text": [
      "2\n"
     ]
    }
   ],
   "source": [
    "print(True+True)"
   ]
  },
  {
   "cell_type": "code",
   "execution_count": 16,
   "id": "47653745",
   "metadata": {},
   "outputs": [
    {
     "name": "stdout",
     "output_type": "stream",
     "text": [
      "1\n"
     ]
    }
   ],
   "source": [
    "print(True+False)"
   ]
  },
  {
   "cell_type": "code",
   "execution_count": 17,
   "id": "720c1711",
   "metadata": {},
   "outputs": [
    {
     "name": "stdout",
     "output_type": "stream",
     "text": [
      "hlo\n",
      "every one heu okm '' lkjmokmk;\n"
     ]
    }
   ],
   "source": [
    "s=\"\"\"hlo\n",
    "every one\"\"\"\n",
    "s1=\"\"\"heu okm '' lkjmokmk;\"\"\"\n",
    "print(s,s1)"
   ]
  },
  {
   "cell_type": "code",
   "execution_count": null,
   "id": "aa7f66f7",
   "metadata": {},
   "outputs": [],
   "source": [
    "int()\n",
    "float()\n",
    "bool()\n",
    "complex()\n",
    "str()"
   ]
  },
  {
   "cell_type": "code",
   "execution_count": 2,
   "id": "7493b680",
   "metadata": {},
   "outputs": [
    {
     "data": {
      "text/plain": [
       "'boum0om'"
      ]
     },
     "execution_count": 2,
     "metadata": {},
     "output_type": "execute_result"
    }
   ],
   "source": [
    "s=\"boum0omp\"\n",
    "s[:-1]\n"
   ]
  },
  {
   "cell_type": "code",
   "execution_count": 19,
   "id": "f7a396d0",
   "metadata": {},
   "outputs": [
    {
     "data": {
      "text/plain": [
       "'pmo0muob'"
      ]
     },
     "execution_count": 19,
     "metadata": {},
     "output_type": "execute_result"
    }
   ],
   "source": [
    "s[::-1]"
   ]
  },
  {
   "cell_type": "code",
   "execution_count": 20,
   "id": "a43905d1",
   "metadata": {},
   "outputs": [
    {
     "data": {
      "text/plain": [
       "'um0o'"
      ]
     },
     "execution_count": 20,
     "metadata": {},
     "output_type": "execute_result"
    }
   ],
   "source": [
    "s[2:-2]"
   ]
  },
  {
   "cell_type": "code",
   "execution_count": 22,
   "id": "4ba964bb",
   "metadata": {},
   "outputs": [
    {
     "name": "stdout",
     "output_type": "stream",
     "text": [
      "0\n",
      "1\n",
      "255\n"
     ]
    }
   ],
   "source": [
    "l=[0,1,255]\n",
    "x=bytes(l)# must have 0-255, no assign support as x[1]=2\n",
    "for i in x:\n",
    "    print(i)"
   ]
  },
  {
   "cell_type": "code",
   "execution_count": 24,
   "id": "aafade6c",
   "metadata": {},
   "outputs": [
    {
     "name": "stdout",
     "output_type": "stream",
     "text": [
      "90 10\n",
      "10\n"
     ]
    }
   ],
   "source": [
    "a,b=input().split()\n",
    "x=a if a<b else b\n",
    "print(x)"
   ]
  },
  {
   "cell_type": "code",
   "execution_count": 25,
   "id": "d648f376",
   "metadata": {},
   "outputs": [
    {
     "name": "stdout",
     "output_type": "stream",
     "text": [
      "my name is sai sree\n",
      "['my', 'name', 'is', 'sai', 'sree']\n"
     ]
    }
   ],
   "source": [
    "x=[i for i in input().split()]\n",
    "print(x)"
   ]
  },
  {
   "cell_type": "code",
   "execution_count": 26,
   "id": "aa404031",
   "metadata": {},
   "outputs": [
    {
     "data": {
      "text/plain": [
       "8"
      ]
     },
     "execution_count": 26,
     "metadata": {},
     "output_type": "execute_result"
    }
   ],
   "source": [
    "eval(\"1-0+7\")"
   ]
  },
  {
   "cell_type": "code",
   "execution_count": 28,
   "id": "271ab502",
   "metadata": {},
   "outputs": [
    {
     "name": "stdout",
     "output_type": "stream",
     "text": [
      "['Process Name: 5, Window Title: 10, Time Spent: 8 seconds']\n"
     ]
    }
   ],
   "source": [
    "a=[]\n",
    "a.append(f\"Process Name: {c}, Window Title: {b}, Time Spent: {d} seconds\")\n",
    "print(a)"
   ]
  },
  {
   "cell_type": "code",
   "execution_count": 29,
   "id": "d045dd49",
   "metadata": {},
   "outputs": [
    {
     "name": "stdout",
     "output_type": "stream",
     "text": [
      "Process Name: 5, Window Title: 10, Time Spent: 8 seconds\n"
     ]
    }
   ],
   "source": [
    "print(*a)"
   ]
  },
  {
   "cell_type": "code",
   "execution_count": 3,
   "id": "ed5a7ead",
   "metadata": {},
   "outputs": [
    {
     "name": "stdout",
     "output_type": "stream",
     "text": [
      "hello boum0omp\n"
     ]
    }
   ],
   "source": [
    "print(\"hello %s\"%s)"
   ]
  },
  {
   "cell_type": "code",
   "execution_count": 4,
   "id": "1fc00dfe",
   "metadata": {},
   "outputs": [
    {
     "name": "stdout",
     "output_type": "stream",
     "text": [
      "10\n"
     ]
    }
   ],
   "source": [
    "a=10\n",
    "print(\"%d\"%(a))"
   ]
  },
  {
   "cell_type": "code",
   "execution_count": 9,
   "id": "f0b8dd2e",
   "metadata": {},
   "outputs": [
    {
     "name": "stdout",
     "output_type": "stream",
     "text": [
      "hello boum0omp you ageis 10 helo boum0omp\n"
     ]
    }
   ],
   "source": [
    "\n",
    "print(\"hello {0} you ageis {1} helo {2}\".format(s,a,s))"
   ]
  },
  {
   "cell_type": "code",
   "execution_count": 10,
   "id": "6c4d5c67",
   "metadata": {},
   "outputs": [
    {
     "data": {
      "text/plain": [
       "2"
      ]
     },
     "execution_count": 10,
     "metadata": {},
     "output_type": "execute_result"
    }
   ],
   "source": [
    "5//2"
   ]
  },
  {
   "cell_type": "code",
   "execution_count": 26,
   "id": "a576ef4f",
   "metadata": {},
   "outputs": [
    {
     "name": "stdout",
     "output_type": "stream",
     "text": [
      "10\n",
      "\n",
      " \n",
      "  \n",
      "   \n",
      "    \n",
      "     \n",
      "     *\n",
      "    ***\n",
      "   *****\n",
      "  *******\n",
      " *********\n",
      "  *******\n",
      "   *****\n",
      "    ***\n",
      "     *\n",
      "     \n",
      "    \n",
      "   \n",
      "  \n",
      " \n"
     ]
    }
   ],
   "source": [
    "n=int(input())\n",
    "for i in range(n+1):\n",
    "    for j in range(i):\n",
    "        if j<=n-i:\n",
    "            print(\" \",end=\"\")\n",
    "        else:\n",
    "            print('*',end='')\n",
    "    print()\n",
    "\n",
    "for i in range(n-1,0,-1):\n",
    "    for j in range(i):\n",
    "        if j<=n-i:\n",
    "            print(\" \",end=\"\")\n",
    "        else:\n",
    "            print('*',end='')\n",
    "    print()"
   ]
  },
  {
   "cell_type": "code",
   "execution_count": 28,
   "id": "521e4452",
   "metadata": {},
   "outputs": [
    {
     "name": "stdout",
     "output_type": "stream",
     "text": [
      "  welcome to class   \n",
      "Welcome to class\n",
      "  Welcome to class\n",
      "Welcome to class   \n"
     ]
    }
   ],
   "source": [
    "s=\"  Welcome to class   \"\n",
    "print(s.lower())\n",
    "print(s.strip())\n",
    "print(s.rstrip())\n",
    "print(s.lstrip())"
   ]
  },
  {
   "cell_type": "code",
   "execution_count": 32,
   "id": "1b695223",
   "metadata": {},
   "outputs": [
    {
     "name": "stdout",
     "output_type": "stream",
     "text": [
      "Welcome To Class\n",
      "Welcome to class\n"
     ]
    }
   ],
   "source": [
    "s=\"welcome to class\"\n",
    "print(s.title())\n",
    "print(s.capitalize())"
   ]
  },
  {
   "cell_type": "code",
   "execution_count": 33,
   "id": "d1101278",
   "metadata": {},
   "outputs": [
    {
     "name": "stdout",
     "output_type": "stream",
     "text": [
      "saisree\n",
      "eersias\n"
     ]
    }
   ],
   "source": [
    "#Reversing\n",
    "s=input()\n",
    "res=''\n",
    "for i in range(len(s)-1,-1,-1):\n",
    "    res+=s[i]\n",
    "print(res)"
   ]
  },
  {
   "cell_type": "code",
   "execution_count": 34,
   "id": "6091d8f7",
   "metadata": {},
   "outputs": [
    {
     "name": "stdout",
     "output_type": "stream",
     "text": [
      "welcome\n",
      "emoclew\n"
     ]
    }
   ],
   "source": [
    "s=input()\n",
    "print(\"\".join(reversed(s)))"
   ]
  },
  {
   "cell_type": "code",
   "execution_count": 36,
   "id": "e9fe9827",
   "metadata": {},
   "outputs": [
    {
     "name": "stdout",
     "output_type": "stream",
     "text": [
      "hi my name is sai sree\n",
      "sree sai is name my hi\n"
     ]
    }
   ],
   "source": [
    "s=input().split()\n",
    "print(\" \".join(reversed(s)))"
   ]
  },
  {
   "cell_type": "code",
   "execution_count": 40,
   "id": "b09d52e2",
   "metadata": {},
   "outputs": [
    {
     "name": "stdout",
     "output_type": "stream",
     "text": [
      "goodmorning\n",
      "odonn\n",
      "gomrig\n"
     ]
    }
   ],
   "source": [
    "s=input()\n",
    "e=''\n",
    "o=''\n",
    "for i in range(len(s)):\n",
    "    if (i+1)%2==0:\n",
    "        e+=s[i]\n",
    "    else:\n",
    "        o+=s[i]\n",
    "print(e)\n",
    "print(o)"
   ]
  },
  {
   "cell_type": "code",
   "execution_count": 41,
   "id": "1d4c51be",
   "metadata": {},
   "outputs": [
    {
     "name": "stdout",
     "output_type": "stream",
     "text": [
      "ravi\n",
      "teja\n",
      "rtaevjia\n"
     ]
    }
   ],
   "source": [
    "s1=input()\n",
    "s2=input()\n",
    "res=''\n",
    "for i,j in zip(s1,s2):\n",
    "    res+=i+j\n",
    "print(res)"
   ]
  },
  {
   "cell_type": "code",
   "execution_count": 45,
   "id": "1a9b6f42",
   "metadata": {},
   "outputs": [
    {
     "name": "stdout",
     "output_type": "stream",
     "text": [
      "knuhli098nkj\n",
      "knuhlinkj098\n"
     ]
    }
   ],
   "source": [
    "s1=input()\n",
    "n=''\n",
    "s=''\n",
    "for i in s1:\n",
    "    if i.isnumeric():\n",
    "        n+=i\n",
    "    else:\n",
    "        s+=i\n",
    "print(s+n)"
   ]
  },
  {
   "cell_type": "code",
   "execution_count": 47,
   "id": "70943ea8",
   "metadata": {},
   "outputs": [
    {
     "name": "stdout",
     "output_type": "stream",
     "text": [
      "a3b2c1\n",
      "aaabbc"
     ]
    }
   ],
   "source": [
    "s=input()\n",
    "for i in range(len(s)):\n",
    "    if s[i].isnumeric():\n",
    "        print(s[i-1]*int(s[i]),end='')"
   ]
  },
  {
   "cell_type": "code",
   "execution_count": 49,
   "id": "80ad3fbe",
   "metadata": {},
   "outputs": [
    {
     "name": "stdout",
     "output_type": "stream",
     "text": [
      "a4k3b2\n",
      "aeknbd"
     ]
    }
   ],
   "source": [
    "s=input()\n",
    "for i in range(len(s)):\n",
    "    if s[i].isnumeric():\n",
    "        print(chr(ord(s[i-1])+int(s[i])),end='')\n",
    "    else:\n",
    "        print(s[i],end='')"
   ]
  },
  {
   "cell_type": "code",
   "execution_count": 50,
   "id": "1aa28105",
   "metadata": {},
   "outputs": [
    {
     "name": "stdout",
     "output_type": "stream",
     "text": [
      "aaaahjjjui\n",
      "ahjui\n"
     ]
    }
   ],
   "source": [
    "s=input()\n",
    "res=\"\"\n",
    "for i in s:\n",
    "    if i not in res:\n",
    "        res+=i\n",
    "print(res)\n",
    "    "
   ]
  },
  {
   "cell_type": "code",
   "execution_count": 51,
   "id": "dbb53a21",
   "metadata": {},
   "outputs": [
    {
     "name": "stdout",
     "output_type": "stream",
     "text": [
      "hhumjkoapaaajkose\n",
      "h-2,u-1,m-1,j-2,k-2,o-2,a-4,p-1,s-1,e-1,"
     ]
    }
   ],
   "source": [
    "s=input()\n",
    "d={}\n",
    "for i in s:\n",
    "    if i in d.keys():\n",
    "        d[i]+=1\n",
    "    else:\n",
    "        d[i]=1\n",
    "for i,j in d.items():\n",
    "    print(\"{}-{}\".format(i,j),end=',')"
   ]
  },
  {
   "cell_type": "code",
   "execution_count": 54,
   "id": "74846e12",
   "metadata": {},
   "outputs": [
    {
     "name": "stdout",
     "output_type": "stream",
     "text": [
      "one two three four five six\n",
      "one owt three ruof five xis\n"
     ]
    }
   ],
   "source": [
    "s=input().split()\n",
    "for i in range(len(s)):\n",
    "    if (i+1)%2==0:\n",
    "        s[i]=s[i][::-1]\n",
    "print(*s)"
   ]
  },
  {
   "cell_type": "markdown",
   "id": "06788458",
   "metadata": {},
   "source": [
    "##formatting"
   ]
  },
  {
   "cell_type": "code",
   "execution_count": 58,
   "id": "80ee93d2",
   "metadata": {},
   "outputs": [
    {
     "name": "stdout",
     "output_type": "stream",
     "text": [
      "Age is:00020\n"
     ]
    }
   ],
   "source": [
    "person={'age':20,'name':'sree'}\n",
    "print(\"Age is:{:05d}\".format(person['age']))"
   ]
  },
  {
   "cell_type": "code",
   "execution_count": 61,
   "id": "98269a15",
   "metadata": {},
   "outputs": [
    {
     "name": "stdout",
     "output_type": "stream",
     "text": [
      "sree\n"
     ]
    }
   ],
   "source": [
    "print(\"{p[name]}\".format(p=person))"
   ]
  },
  {
   "cell_type": "code",
   "execution_count": 62,
   "id": "e59ceaef",
   "metadata": {},
   "outputs": [
    {
     "name": "stdout",
     "output_type": "stream",
     "text": [
      "sree\n"
     ]
    }
   ],
   "source": [
    "print(\"{name}\".format(**person))"
   ]
  },
  {
   "cell_type": "code",
   "execution_count": 63,
   "id": "b9ac1661",
   "metadata": {},
   "outputs": [
    {
     "name": "stdout",
     "output_type": "stream",
     "text": [
      "sree 20\n"
     ]
    }
   ],
   "source": [
    "class Person:\n",
    "    name=\"sree\"\n",
    "    age=20\n",
    "print(\"{p.name} {p.age}\".format(p=Person()))"
   ]
  },
  {
   "cell_type": "code",
   "execution_count": 65,
   "id": "bb623ae7",
   "metadata": {},
   "outputs": [
    {
     "name": "stdout",
     "output_type": "stream",
     "text": [
      "hema 21\n"
     ]
    }
   ],
   "source": [
    "class Person:\n",
    "    def __init__(self,name,age):\n",
    "        self.name=name\n",
    "        self.age=age\n",
    "print(\"{p.name} {p.age}\".format(p=Person(\"hema\",21)))"
   ]
  },
  {
   "cell_type": "code",
   "execution_count": 66,
   "id": "baa1678b",
   "metadata": {},
   "outputs": [
    {
     "name": "stdout",
     "output_type": "stream",
     "text": [
      "****cat\n"
     ]
    }
   ],
   "source": [
    "s=\"{:{fill}{align}{width}}\"\n",
    "print(s.format('cat',fill='*',align='>',width=7))"
   ]
  },
  {
   "cell_type": "code",
   "execution_count": 67,
   "id": "d173d4cd",
   "metadata": {},
   "outputs": [
    {
     "name": "stdout",
     "output_type": "stream",
     "text": [
      "16/05/24 19:46:37\n"
     ]
    }
   ],
   "source": [
    "import datetime\n",
    "date=datetime.datetime.now()\n",
    "print(\"{:%d/%m/%y %H:%M:%S}\".format(date))"
   ]
  }
 ],
 "metadata": {
  "kernelspec": {
   "display_name": "Python 3 (ipykernel)",
   "language": "python",
   "name": "python3"
  },
  "language_info": {
   "codemirror_mode": {
    "name": "ipython",
    "version": 3
   },
   "file_extension": ".py",
   "mimetype": "text/x-python",
   "name": "python",
   "nbconvert_exporter": "python",
   "pygments_lexer": "ipython3",
   "version": "3.9.7"
  }
 },
 "nbformat": 4,
 "nbformat_minor": 5
}
