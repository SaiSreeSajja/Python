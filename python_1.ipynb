{
 "cells": [
  {
   "cell_type": "code",
   "execution_count": 1,
   "id": "57659c5e",
   "metadata": {},
   "outputs": [
    {
     "name": "stdout",
     "output_type": "stream",
     "text": [
      "Welcome\n"
     ]
    }
   ],
   "source": [
    "print(\"Welcome\")"
   ]
  },
  {
   "cell_type": "code",
   "execution_count": 2,
   "id": "8700a3aa",
   "metadata": {},
   "outputs": [],
   "source": [
    "#Datatypes"
   ]
  },
  {
   "cell_type": "code",
   "execution_count": 6,
   "id": "90a52628",
   "metadata": {},
   "outputs": [
    {
     "name": "stdout",
     "output_type": "stream",
     "text": [
      "10 1\n",
      "<class 'int'>\n"
     ]
    }
   ],
   "source": [
    "a=10\n",
    "b=0B1\n",
    "print(a,b)\n",
    "print(type(b))"
   ]
  },
  {
   "cell_type": "code",
   "execution_count": 7,
   "id": "879efe0b",
   "metadata": {},
   "outputs": [
    {
     "name": "stdout",
     "output_type": "stream",
     "text": [
      "5\n",
      "<class 'int'>\n"
     ]
    }
   ],
   "source": [
    "c=0b101\n",
    "print(c)\n",
    "print(type(c))"
   ]
  },
  {
   "cell_type": "code",
   "execution_count": 10,
   "id": "3e709818",
   "metadata": {},
   "outputs": [
    {
     "name": "stdout",
     "output_type": "stream",
     "text": [
      "8 10\n"
     ]
    }
   ],
   "source": [
    "d=0o10\n",
    "e=0Xa\n",
    "print(d,e)"
   ]
  },
  {
   "cell_type": "code",
   "execution_count": null,
   "id": "b162ca56",
   "metadata": {},
   "outputs": [],
   "source": [
    "bin()\n",
    "oct()\n",
    "hex()"
   ]
  },
  {
   "cell_type": "code",
   "execution_count": 13,
   "id": "15d60a2e",
   "metadata": {},
   "outputs": [
    {
     "name": "stdout",
     "output_type": "stream",
     "text": [
      "(3+6j)\n",
      "3.0 6.0\n"
     ]
    }
   ],
   "source": [
    "a=0B11+6j\n",
    "print(a)\n",
    "#b=3+0B100j not possible\n",
    "print(a.real, a.imag)"
   ]
  },
  {
   "cell_type": "code",
   "execution_count": 14,
   "id": "5aa2f307",
   "metadata": {},
   "outputs": [
    {
     "data": {
      "text/plain": [
       "bool"
      ]
     },
     "execution_count": 14,
     "metadata": {},
     "output_type": "execute_result"
    }
   ],
   "source": [
    "b=True\n",
    "type(b)"
   ]
  },
  {
   "cell_type": "code",
   "execution_count": 15,
   "id": "9c40c23d",
   "metadata": {},
   "outputs": [
    {
     "name": "stdout",
     "output_type": "stream",
     "text": [
      "2\n"
     ]
    }
   ],
   "source": [
    "print(True+True)"
   ]
  },
  {
   "cell_type": "code",
   "execution_count": 16,
   "id": "47653745",
   "metadata": {},
   "outputs": [
    {
     "name": "stdout",
     "output_type": "stream",
     "text": [
      "1\n"
     ]
    }
   ],
   "source": [
    "print(True+False)"
   ]
  },
  {
   "cell_type": "code",
   "execution_count": 17,
   "id": "720c1711",
   "metadata": {},
   "outputs": [
    {
     "name": "stdout",
     "output_type": "stream",
     "text": [
      "hlo\n",
      "every one heu okm '' lkjmokmk;\n"
     ]
    }
   ],
   "source": [
    "s=\"\"\"hlo\n",
    "every one\"\"\"\n",
    "s1=\"\"\"heu okm '' lkjmokmk;\"\"\"\n",
    "print(s,s1)"
   ]
  },
  {
   "cell_type": "code",
   "execution_count": null,
   "id": "aa7f66f7",
   "metadata": {},
   "outputs": [],
   "source": [
    "int()\n",
    "float()\n",
    "bool()\n",
    "complex()\n",
    "str()"
   ]
  },
  {
   "cell_type": "code",
   "execution_count": 2,
   "id": "7493b680",
   "metadata": {},
   "outputs": [
    {
     "data": {
      "text/plain": [
       "'boum0om'"
      ]
     },
     "execution_count": 2,
     "metadata": {},
     "output_type": "execute_result"
    }
   ],
   "source": [
    "s=\"boum0omp\"\n",
    "s[:-1]\n"
   ]
  },
  {
   "cell_type": "code",
   "execution_count": 19,
   "id": "f7a396d0",
   "metadata": {},
   "outputs": [
    {
     "data": {
      "text/plain": [
       "'pmo0muob'"
      ]
     },
     "execution_count": 19,
     "metadata": {},
     "output_type": "execute_result"
    }
   ],
   "source": [
    "s[::-1]"
   ]
  },
  {
   "cell_type": "code",
   "execution_count": 20,
   "id": "a43905d1",
   "metadata": {},
   "outputs": [
    {
     "data": {
      "text/plain": [
       "'um0o'"
      ]
     },
     "execution_count": 20,
     "metadata": {},
     "output_type": "execute_result"
    }
   ],
   "source": [
    "s[2:-2]"
   ]
  },
  {
   "cell_type": "code",
   "execution_count": 22,
   "id": "4ba964bb",
   "metadata": {},
   "outputs": [
    {
     "name": "stdout",
     "output_type": "stream",
     "text": [
      "0\n",
      "1\n",
      "255\n"
     ]
    }
   ],
   "source": [
    "l=[0,1,255]\n",
    "x=bytes(l)# must have 0-255, no assign support as x[1]=2\n",
    "for i in x:\n",
    "    print(i)"
   ]
  },
  {
   "cell_type": "code",
   "execution_count": 24,
   "id": "aafade6c",
   "metadata": {},
   "outputs": [
    {
     "name": "stdout",
     "output_type": "stream",
     "text": [
      "90 10\n",
      "10\n"
     ]
    }
   ],
   "source": [
    "a,b=input().split()\n",
    "x=a if a<b else b\n",
    "print(x)"
   ]
  },
  {
   "cell_type": "code",
   "execution_count": 25,
   "id": "d648f376",
   "metadata": {},
   "outputs": [
    {
     "name": "stdout",
     "output_type": "stream",
     "text": [
      "my name is sai sree\n",
      "['my', 'name', 'is', 'sai', 'sree']\n"
     ]
    }
   ],
   "source": [
    "x=[i for i in input().split()]\n",
    "print(x)"
   ]
  },
  {
   "cell_type": "code",
   "execution_count": 26,
   "id": "aa404031",
   "metadata": {},
   "outputs": [
    {
     "data": {
      "text/plain": [
       "8"
      ]
     },
     "execution_count": 26,
     "metadata": {},
     "output_type": "execute_result"
    }
   ],
   "source": [
    "eval(\"1-0+7\")"
   ]
  },
  {
   "cell_type": "code",
   "execution_count": 28,
   "id": "271ab502",
   "metadata": {},
   "outputs": [
    {
     "name": "stdout",
     "output_type": "stream",
     "text": [
      "['Process Name: 5, Window Title: 10, Time Spent: 8 seconds']\n"
     ]
    }
   ],
   "source": [
    "a=[]\n",
    "a.append(f\"Process Name: {c}, Window Title: {b}, Time Spent: {d} seconds\")\n",
    "print(a)"
   ]
  },
  {
   "cell_type": "code",
   "execution_count": 29,
   "id": "d045dd49",
   "metadata": {},
   "outputs": [
    {
     "name": "stdout",
     "output_type": "stream",
     "text": [
      "Process Name: 5, Window Title: 10, Time Spent: 8 seconds\n"
     ]
    }
   ],
   "source": [
    "print(*a)"
   ]
  },
  {
   "cell_type": "code",
   "execution_count": 3,
   "id": "ed5a7ead",
   "metadata": {},
   "outputs": [
    {
     "name": "stdout",
     "output_type": "stream",
     "text": [
      "hello boum0omp\n"
     ]
    }
   ],
   "source": [
    "print(\"hello %s\"%s)"
   ]
  },
  {
   "cell_type": "code",
   "execution_count": 4,
   "id": "1fc00dfe",
   "metadata": {},
   "outputs": [
    {
     "name": "stdout",
     "output_type": "stream",
     "text": [
      "10\n"
     ]
    }
   ],
   "source": [
    "a=10\n",
    "print(\"%d\"%(a))"
   ]
  },
  {
   "cell_type": "code",
   "execution_count": 9,
   "id": "f0b8dd2e",
   "metadata": {},
   "outputs": [
    {
     "name": "stdout",
     "output_type": "stream",
     "text": [
      "hello boum0omp you ageis 10 helo boum0omp\n"
     ]
    }
   ],
   "source": [
    "\n",
    "print(\"hello {0} you ageis {1} helo {2}\".format(s,a,s))"
   ]
  },
  {
   "cell_type": "code",
   "execution_count": 10,
   "id": "6c4d5c67",
   "metadata": {},
   "outputs": [
    {
     "data": {
      "text/plain": [
       "2"
      ]
     },
     "execution_count": 10,
     "metadata": {},
     "output_type": "execute_result"
    }
   ],
   "source": [
    "5//2"
   ]
  },
  {
   "cell_type": "code",
   "execution_count": 26,
   "id": "a576ef4f",
   "metadata": {},
   "outputs": [
    {
     "name": "stdout",
     "output_type": "stream",
     "text": [
      "10\n",
      "\n",
      " \n",
      "  \n",
      "   \n",
      "    \n",
      "     \n",
      "     *\n",
      "    ***\n",
      "   *****\n",
      "  *******\n",
      " *********\n",
      "  *******\n",
      "   *****\n",
      "    ***\n",
      "     *\n",
      "     \n",
      "    \n",
      "   \n",
      "  \n",
      " \n"
     ]
    }
   ],
   "source": [
    "n=int(input())\n",
    "for i in range(n+1):\n",
    "    for j in range(i):\n",
    "        if j<=n-i:\n",
    "            print(\" \",end=\"\")\n",
    "        else:\n",
    "            print('*',end='')\n",
    "    print()\n",
    "\n",
    "for i in range(n-1,0,-1):\n",
    "    for j in range(i):\n",
    "        if j<=n-i:\n",
    "            print(\" \",end=\"\")\n",
    "        else:\n",
    "            print('*',end='')\n",
    "    print()"
   ]
  },
  {
   "cell_type": "code",
   "execution_count": 28,
   "id": "521e4452",
   "metadata": {},
   "outputs": [
    {
     "name": "stdout",
     "output_type": "stream",
     "text": [
      "  welcome to class   \n",
      "Welcome to class\n",
      "  Welcome to class\n",
      "Welcome to class   \n"
     ]
    }
   ],
   "source": [
    "s=\"  Welcome to class   \"\n",
    "print(s.lower())\n",
    "print(s.strip())\n",
    "print(s.rstrip())\n",
    "print(s.lstrip())"
   ]
  },
  {
   "cell_type": "code",
   "execution_count": 32,
   "id": "1b695223",
   "metadata": {},
   "outputs": [
    {
     "name": "stdout",
     "output_type": "stream",
     "text": [
      "Welcome To Class\n",
      "Welcome to class\n"
     ]
    }
   ],
   "source": [
    "s=\"welcome to class\"\n",
    "print(s.title())\n",
    "print(s.capitalize())"
   ]
  },
  {
   "cell_type": "code",
   "execution_count": 33,
   "id": "d1101278",
   "metadata": {},
   "outputs": [
    {
     "name": "stdout",
     "output_type": "stream",
     "text": [
      "saisree\n",
      "eersias\n"
     ]
    }
   ],
   "source": [
    "#Reversing\n",
    "s=input()\n",
    "res=''\n",
    "for i in range(len(s)-1,-1,-1):\n",
    "    res+=s[i]\n",
    "print(res)"
   ]
  },
  {
   "cell_type": "code",
   "execution_count": 34,
   "id": "6091d8f7",
   "metadata": {},
   "outputs": [
    {
     "name": "stdout",
     "output_type": "stream",
     "text": [
      "welcome\n",
      "emoclew\n"
     ]
    }
   ],
   "source": [
    "s=input()\n",
    "print(\"\".join(reversed(s)))"
   ]
  },
  {
   "cell_type": "code",
   "execution_count": 36,
   "id": "e9fe9827",
   "metadata": {},
   "outputs": [
    {
     "name": "stdout",
     "output_type": "stream",
     "text": [
      "hi my name is sai sree\n",
      "sree sai is name my hi\n"
     ]
    }
   ],
   "source": [
    "s=input().split()\n",
    "print(\" \".join(reversed(s)))"
   ]
  },
  {
   "cell_type": "code",
   "execution_count": 40,
   "id": "b09d52e2",
   "metadata": {},
   "outputs": [
    {
     "name": "stdout",
     "output_type": "stream",
     "text": [
      "goodmorning\n",
      "odonn\n",
      "gomrig\n"
     ]
    }
   ],
   "source": [
    "s=input()\n",
    "e=''\n",
    "o=''\n",
    "for i in range(len(s)):\n",
    "    if (i+1)%2==0:\n",
    "        e+=s[i]\n",
    "    else:\n",
    "        o+=s[i]\n",
    "print(e)\n",
    "print(o)"
   ]
  },
  {
   "cell_type": "code",
   "execution_count": 41,
   "id": "1d4c51be",
   "metadata": {},
   "outputs": [
    {
     "name": "stdout",
     "output_type": "stream",
     "text": [
      "ravi\n",
      "teja\n",
      "rtaevjia\n"
     ]
    }
   ],
   "source": [
    "s1=input()\n",
    "s2=input()\n",
    "res=''\n",
    "for i,j in zip(s1,s2):\n",
    "    res+=i+j\n",
    "print(res)"
   ]
  },
  {
   "cell_type": "code",
   "execution_count": 45,
   "id": "1a9b6f42",
   "metadata": {},
   "outputs": [
    {
     "name": "stdout",
     "output_type": "stream",
     "text": [
      "knuhli098nkj\n",
      "knuhlinkj098\n"
     ]
    }
   ],
   "source": [
    "s1=input()\n",
    "n=''\n",
    "s=''\n",
    "for i in s1:\n",
    "    if i.isnumeric():\n",
    "        n+=i\n",
    "    else:\n",
    "        s+=i\n",
    "print(s+n)"
   ]
  },
  {
   "cell_type": "code",
   "execution_count": 47,
   "id": "70943ea8",
   "metadata": {},
   "outputs": [
    {
     "name": "stdout",
     "output_type": "stream",
     "text": [
      "a3b2c1\n",
      "aaabbc"
     ]
    }
   ],
   "source": [
    "s=input()\n",
    "for i in range(len(s)):\n",
    "    if s[i].isnumeric():\n",
    "        print(s[i-1]*int(s[i]),end='')"
   ]
  },
  {
   "cell_type": "code",
   "execution_count": 49,
   "id": "80ad3fbe",
   "metadata": {},
   "outputs": [
    {
     "name": "stdout",
     "output_type": "stream",
     "text": [
      "a4k3b2\n",
      "aeknbd"
     ]
    }
   ],
   "source": [
    "s=input()\n",
    "for i in range(len(s)):\n",
    "    if s[i].isnumeric():\n",
    "        print(chr(ord(s[i-1])+int(s[i])),end='')\n",
    "    else:\n",
    "        print(s[i],end='')"
   ]
  },
  {
   "cell_type": "code",
   "execution_count": 50,
   "id": "1aa28105",
   "metadata": {},
   "outputs": [
    {
     "name": "stdout",
     "output_type": "stream",
     "text": [
      "aaaahjjjui\n",
      "ahjui\n"
     ]
    }
   ],
   "source": [
    "s=input()\n",
    "res=\"\"\n",
    "for i in s:\n",
    "    if i not in res:\n",
    "        res+=i\n",
    "print(res)\n",
    "    "
   ]
  },
  {
   "cell_type": "code",
   "execution_count": 51,
   "id": "dbb53a21",
   "metadata": {},
   "outputs": [
    {
     "name": "stdout",
     "output_type": "stream",
     "text": [
      "hhumjkoapaaajkose\n",
      "h-2,u-1,m-1,j-2,k-2,o-2,a-4,p-1,s-1,e-1,"
     ]
    }
   ],
   "source": [
    "s=input()\n",
    "d={}\n",
    "for i in s:\n",
    "    if i in d.keys():\n",
    "        d[i]+=1\n",
    "    else:\n",
    "        d[i]=1\n",
    "for i,j in d.items():\n",
    "    print(\"{}-{}\".format(i,j),end=',')"
   ]
  },
  {
   "cell_type": "code",
   "execution_count": 54,
   "id": "74846e12",
   "metadata": {},
   "outputs": [
    {
     "name": "stdout",
     "output_type": "stream",
     "text": [
      "one two three four five six\n",
      "one owt three ruof five xis\n"
     ]
    }
   ],
   "source": [
    "s=input().split()\n",
    "for i in range(len(s)):\n",
    "    if (i+1)%2==0:\n",
    "        s[i]=s[i][::-1]\n",
    "print(*s)"
   ]
  },
  {
   "cell_type": "markdown",
   "id": "06788458",
   "metadata": {},
   "source": [
    "##formatting"
   ]
  },
  {
   "cell_type": "code",
   "execution_count": 58,
   "id": "80ee93d2",
   "metadata": {},
   "outputs": [
    {
     "name": "stdout",
     "output_type": "stream",
     "text": [
      "Age is:00020\n"
     ]
    }
   ],
   "source": [
    "person={'age':20,'name':'sree'}\n",
    "print(\"Age is:{:05d}\".format(person['age']))"
   ]
  },
  {
   "cell_type": "code",
   "execution_count": 61,
   "id": "98269a15",
   "metadata": {},
   "outputs": [
    {
     "name": "stdout",
     "output_type": "stream",
     "text": [
      "sree\n"
     ]
    }
   ],
   "source": [
    "print(\"{p[name]}\".format(p=person))"
   ]
  },
  {
   "cell_type": "code",
   "execution_count": 62,
   "id": "e59ceaef",
   "metadata": {},
   "outputs": [
    {
     "name": "stdout",
     "output_type": "stream",
     "text": [
      "sree\n"
     ]
    }
   ],
   "source": [
    "print(\"{name}\".format(**person))"
   ]
  },
  {
   "cell_type": "code",
   "execution_count": 63,
   "id": "b9ac1661",
   "metadata": {},
   "outputs": [
    {
     "name": "stdout",
     "output_type": "stream",
     "text": [
      "sree 20\n"
     ]
    }
   ],
   "source": [
    "class Person:\n",
    "    name=\"sree\"\n",
    "    age=20\n",
    "print(\"{p.name} {p.age}\".format(p=Person()))"
   ]
  },
  {
   "cell_type": "code",
   "execution_count": 65,
   "id": "bb623ae7",
   "metadata": {},
   "outputs": [
    {
     "name": "stdout",
     "output_type": "stream",
     "text": [
      "hema 21\n"
     ]
    }
   ],
   "source": [
    "class Person:\n",
    "    def __init__(self,name,age):\n",
    "        self.name=name\n",
    "        self.age=age\n",
    "print(\"{p.name} {p.age}\".format(p=Person(\"hema\",21)))"
   ]
  },
  {
   "cell_type": "code",
   "execution_count": 66,
   "id": "baa1678b",
   "metadata": {},
   "outputs": [
    {
     "name": "stdout",
     "output_type": "stream",
     "text": [
      "****cat\n"
     ]
    }
   ],
   "source": [
    "s=\"{:{fill}{align}{width}}\"\n",
    "print(s.format('cat',fill='*',align='>',width=7))"
   ]
  },
  {
   "cell_type": "code",
   "execution_count": 67,
   "id": "d173d4cd",
   "metadata": {},
   "outputs": [
    {
     "name": "stdout",
     "output_type": "stream",
     "text": [
      "16/05/24 19:46:37\n"
     ]
    }
   ],
   "source": [
    "import datetime\n",
    "date=datetime.datetime.now()\n",
    "print(\"{:%d/%m/%y %H:%M:%S}\".format(date))"
   ]
  },
  {
   "cell_type": "code",
   "execution_count": 2,
   "id": "e013888f",
   "metadata": {},
   "outputs": [
    {
     "data": {
      "text/plain": [
       "0"
      ]
     },
     "execution_count": 2,
     "metadata": {},
     "output_type": "execute_result"
    }
   ],
   "source": [
    "d={'a':1}\n",
    "d.get('b',0)# dict.get(key,default=None)"
   ]
  },
  {
   "cell_type": "code",
   "execution_count": 6,
   "id": "ae298b6d",
   "metadata": {},
   "outputs": [
    {
     "name": "stdout",
     "output_type": "stream",
     "text": [
      "abcdefg\n",
      "xyz\n",
      "12345\n",
      "ax1 by2 cz3 d4 e5 f g "
     ]
    }
   ],
   "source": [
    "s1=input()\n",
    "s2=input()\n",
    "s3=input()\n",
    "'''for i,j,k in zip(s1,s2,s3):#same length\n",
    "    print(i+j+k,end=\" \")'''\n",
    "i=j=k=0\n",
    "while i<len(s1) or j<len(s2) or k<len(s3):\n",
    "    res=''\n",
    "    if i<len(s1):\n",
    "        res+=s1[i]\n",
    "        i+=1\n",
    "    if j<len(s2):\n",
    "        res+=s2[j]\n",
    "        j+=1\n",
    "    if k<len(s3):\n",
    "        res+=s3[k]\n",
    "        k+=1\n",
    "    print(res,end=\" \")"
   ]
  },
  {
   "cell_type": "code",
   "execution_count": 7,
   "id": "e1faa8dd",
   "metadata": {},
   "outputs": [
    {
     "name": "stdout",
     "output_type": "stream",
     "text": [
      "[10, 888, 23, 55, 7]\n"
     ]
    }
   ],
   "source": [
    "l=[10,23,55,7]\n",
    "l.insert(1,888)#insert(index,value)\n",
    "print(l)"
   ]
  },
  {
   "cell_type": "code",
   "execution_count": 8,
   "id": "e0b40cc6",
   "metadata": {},
   "outputs": [
    {
     "name": "stdout",
     "output_type": "stream",
     "text": [
      "[999, 10, 888, 23, 55, 7]\n"
     ]
    }
   ],
   "source": [
    "l.insert(-10,999)\n",
    "print(l)"
   ]
  },
  {
   "cell_type": "code",
   "execution_count": 10,
   "id": "5a49c153",
   "metadata": {},
   "outputs": [
    {
     "data": {
      "text/plain": [
       "3"
      ]
     },
     "execution_count": 10,
     "metadata": {},
     "output_type": "execute_result"
    }
   ],
   "source": [
    "l.index(23)#index(key)"
   ]
  },
  {
   "cell_type": "code",
   "execution_count": 11,
   "id": "13d65964",
   "metadata": {},
   "outputs": [],
   "source": [
    "l.clear()"
   ]
  },
  {
   "cell_type": "code",
   "execution_count": 12,
   "id": "4f65d4f9",
   "metadata": {},
   "outputs": [
    {
     "name": "stdout",
     "output_type": "stream",
     "text": [
      "[]\n"
     ]
    }
   ],
   "source": [
    "print(l)"
   ]
  },
  {
   "cell_type": "code",
   "execution_count": 13,
   "id": "25e06cb6",
   "metadata": {},
   "outputs": [
    {
     "name": "stdout",
     "output_type": "stream",
     "text": [
      "1 2 3 \n",
      "4 5 6 \n",
      "7 8 9 \n"
     ]
    }
   ],
   "source": [
    "k=[[1,2,3],[4,5,6],[7,8,9]]\n",
    "for i in k:\n",
    "    for j in i:\n",
    "        print(j,end=\" \")\n",
    "    print()"
   ]
  },
  {
   "cell_type": "code",
   "execution_count": 14,
   "id": "c6339ee8",
   "metadata": {},
   "outputs": [
    {
     "name": "stdout",
     "output_type": "stream",
     "text": [
      "[22]\n"
     ]
    }
   ],
   "source": [
    "a=[10,20,33,22]\n",
    "b=[44,22,40,36]\n",
    "x=[i for i in a if i in b]\n",
    "print(x)"
   ]
  },
  {
   "cell_type": "code",
   "execution_count": 19,
   "id": "3fa94569",
   "metadata": {},
   "outputs": [
    {
     "name": "stdout",
     "output_type": "stream",
     "text": [
      "[10, 20, 22, 33]\n"
     ]
    }
   ],
   "source": [
    "a.sort()\n",
    "print(a)"
   ]
  },
  {
   "cell_type": "code",
   "execution_count": 21,
   "id": "a65436f3",
   "metadata": {},
   "outputs": [
    {
     "name": "stdout",
     "output_type": "stream",
     "text": [
      "[33, 22, 20, 10]\n"
     ]
    }
   ],
   "source": [
    "print(sorted(a,reverse=True))"
   ]
  },
  {
   "cell_type": "code",
   "execution_count": 17,
   "id": "d944c03f",
   "metadata": {},
   "outputs": [
    {
     "name": "stdout",
     "output_type": "stream",
     "text": [
      "[33, 10, 2]\n"
     ]
    }
   ],
   "source": [
    "t=(10,2,33)\n",
    "t1=sorted(t,reverse=True)\n",
    "print(t1)"
   ]
  },
  {
   "cell_type": "code",
   "execution_count": 18,
   "id": "a59a7791",
   "metadata": {},
   "outputs": [
    {
     "name": "stdout",
     "output_type": "stream",
     "text": [
      "(33, 10, 2)\n"
     ]
    }
   ],
   "source": [
    "print(tuple(t1))"
   ]
  },
  {
   "cell_type": "code",
   "execution_count": 22,
   "id": "6b439253",
   "metadata": {},
   "outputs": [
    {
     "name": "stdout",
     "output_type": "stream",
     "text": [
      "33\n"
     ]
    }
   ],
   "source": [
    "a,b,c=t1\n",
    "print(a)"
   ]
  },
  {
   "cell_type": "code",
   "execution_count": 24,
   "id": "d4bec39f",
   "metadata": {},
   "outputs": [
    {
     "name": "stdout",
     "output_type": "stream",
     "text": [
      "1\n",
      "4\n",
      "9\n",
      "16\n",
      "25\n"
     ]
    }
   ],
   "source": [
    "tu=(x**2 for x in range(1,6))\n",
    "for i in tu:\n",
    "    print(i)"
   ]
  },
  {
   "cell_type": "code",
   "execution_count": 30,
   "id": "0f2924d8",
   "metadata": {},
   "outputs": [
    {
     "name": "stdout",
     "output_type": "stream",
     "text": [
      "{2, 10, 3, 45}\n"
     ]
    }
   ],
   "source": [
    "s={10,2,45,3,2}\n",
    "print(s)"
   ]
  },
  {
   "cell_type": "code",
   "execution_count": 31,
   "id": "b5fc0e2c",
   "metadata": {},
   "outputs": [
    {
     "name": "stdout",
     "output_type": "stream",
     "text": [
      "{33, 2, 3, 10, 11, 44, 45, 55}\n"
     ]
    }
   ],
   "source": [
    "p=[44,33,11,55]\n",
    "s.update(p)\n",
    "print(s)"
   ]
  },
  {
   "cell_type": "code",
   "execution_count": 32,
   "id": "146b3186",
   "metadata": {},
   "outputs": [
    {
     "name": "stdout",
     "output_type": "stream",
     "text": [
      "<class 'dict'>\n",
      "<class 'dict'>\n"
     ]
    }
   ],
   "source": [
    "d=dict()\n",
    "s={}\n",
    "print(type(d))\n",
    "print(type(s))\n"
   ]
  },
  {
   "cell_type": "code",
   "execution_count": 33,
   "id": "545a4c96",
   "metadata": {},
   "outputs": [],
   "source": [
    "s=set()"
   ]
  },
  {
   "cell_type": "code",
   "execution_count": 34,
   "id": "4ef85e33",
   "metadata": {},
   "outputs": [
    {
     "name": "stdout",
     "output_type": "stream",
     "text": [
      "<class 'set'>\n"
     ]
    }
   ],
   "source": [
    "print(type(s))"
   ]
  },
  {
   "cell_type": "code",
   "execution_count": 35,
   "id": "fda8127e",
   "metadata": {},
   "outputs": [
    {
     "name": "stdout",
     "output_type": "stream",
     "text": [
      "{0: 0, 1: 1, 2: 4, 3: 9, 4: 16, 5: 25, 6: 36, 7: 49, 8: 64, 9: 81, 10: 100}\n"
     ]
    }
   ],
   "source": [
    "d={x:x**2 for x in range(11)}\n",
    "print(d)"
   ]
  },
  {
   "cell_type": "code",
   "execution_count": 36,
   "id": "e1d2cafe",
   "metadata": {},
   "outputs": [
    {
     "name": "stdout",
     "output_type": "stream",
     "text": [
      "0\n",
      "5\n"
     ]
    }
   ],
   "source": [
    "def fun(n=0):\n",
    "    print(n)\n",
    "fun()\n",
    "fun(5)"
   ]
  },
  {
   "cell_type": "code",
   "execution_count": 38,
   "id": "a408ccfb",
   "metadata": {},
   "outputs": [
    {
     "name": "stdout",
     "output_type": "stream",
     "text": [
      "2\n",
      "4 5 6 7 8 "
     ]
    }
   ],
   "source": [
    "'''def fun(n=0,m):#non default must be before default argument\n",
    "    print(n,m)\n",
    "fun(2)'''\n",
    "def fun(n,*s):\n",
    "    print(n)\n",
    "    for i in s:\n",
    "        print(i,end=' ')\n",
    "fun(2,4,5,6,7,8)"
   ]
  },
  {
   "cell_type": "code",
   "execution_count": 39,
   "id": "f6d7771c",
   "metadata": {},
   "outputs": [
    {
     "name": "stdout",
     "output_type": "stream",
     "text": [
      "8\n",
      "2 4 5 6 7 "
     ]
    }
   ],
   "source": [
    "def fun(*s,n):\n",
    "    print(n)\n",
    "    for i in s:\n",
    "        print(i,end=' ')\n",
    "fun(2,4,5,6,7,n=8)"
   ]
  },
  {
   "cell_type": "code",
   "execution_count": 41,
   "id": "70e395f9",
   "metadata": {},
   "outputs": [
    {
     "name": "stdout",
     "output_type": "stream",
     "text": [
      "a 1\n",
      "b 2\n",
      "c 3\n",
      "d four\n"
     ]
    }
   ],
   "source": [
    "def display(**kwargs):\n",
    "    for i,j in kwargs.items():\n",
    "        print(i,j)\n",
    "display(a=1,b=2,c=3,d='four')"
   ]
  },
  {
   "cell_type": "code",
   "execution_count": 42,
   "id": "f1ff18f3",
   "metadata": {},
   "outputs": [
    {
     "name": "stdout",
     "output_type": "stream",
     "text": [
      "1 2 3 4\n",
      "2 1 -3 4\n"
     ]
    }
   ],
   "source": [
    "def fun(a1,a2,a3=3,a4=4):\n",
    "    print(a1,a2,a3,a4)\n",
    "fun(1,2)\n",
    "fun(a3=-3,a2=1,a1=2)"
   ]
  },
  {
   "cell_type": "code",
   "execution_count": 43,
   "id": "55043894",
   "metadata": {},
   "outputs": [
    {
     "name": "stdout",
     "output_type": "stream",
     "text": [
      "1 -2 3 66\n"
     ]
    }
   ],
   "source": [
    "fun(1,-2,a4=66)"
   ]
  },
  {
   "cell_type": "code",
   "execution_count": 45,
   "id": "4946cb74",
   "metadata": {},
   "outputs": [
    {
     "name": "stdout",
     "output_type": "stream",
     "text": [
      "hlo\n",
      "hello\n",
      "hello\n"
     ]
    }
   ],
   "source": [
    "h='hlo'\n",
    "def greet():\n",
    "    print(h)\n",
    "def greetings():\n",
    "    global h\n",
    "    h=\"hello\"\n",
    "    print(h)\n",
    "def greets():\n",
    "    print(h)\n",
    "greet()\n",
    "greetings()\n",
    "greets()"
   ]
  },
  {
   "cell_type": "code",
   "execution_count": 46,
   "id": "78415439",
   "metadata": {},
   "outputs": [],
   "source": [
    "a=11\n",
    "def fun():\n",
    "    a=90\n",
    "    print(a)\n",
    "    print(globals()['a'])"
   ]
  },
  {
   "cell_type": "code",
   "execution_count": 47,
   "id": "ceaeaaef",
   "metadata": {},
   "outputs": [
    {
     "name": "stdout",
     "output_type": "stream",
     "text": [
      "90\n",
      "11\n"
     ]
    }
   ],
   "source": [
    "fun()\n"
   ]
  },
  {
   "cell_type": "code",
   "execution_count": 48,
   "id": "f0d16c36",
   "metadata": {},
   "outputs": [
    {
     "name": "stdout",
     "output_type": "stream",
     "text": [
      "120\n"
     ]
    }
   ],
   "source": [
    "import math\n",
    "print(math.factorial(5))"
   ]
  },
  {
   "cell_type": "code",
   "execution_count": 56,
   "id": "56554c49",
   "metadata": {},
   "outputs": [
    {
     "name": "stdout",
     "output_type": "stream",
     "text": [
      "120\n"
     ]
    }
   ],
   "source": [
    "def fact(n):\n",
    "    if n==1 or n==0:\n",
    "        return 1\n",
    "    else:\n",
    "        return n*fact(n-1)\n",
    "print(fact(5))"
   ]
  },
  {
   "cell_type": "code",
   "execution_count": 50,
   "id": "09392394",
   "metadata": {},
   "outputs": [
    {
     "name": "stdout",
     "output_type": "stream",
     "text": [
      "36\n"
     ]
    }
   ],
   "source": [
    "#lambda\n",
    "a=lambda x:x**2\n",
    "print(a(6))"
   ]
  },
  {
   "cell_type": "code",
   "execution_count": 54,
   "id": "cd9a85d2",
   "metadata": {},
   "outputs": [
    {
     "name": "stdout",
     "output_type": "stream",
     "text": [
      "Good Evening\n"
     ]
    }
   ],
   "source": [
    "b=lambda x,y:x+\" \"+y\n",
    "print(b(\"Good\",\"Evening\"))"
   ]
  },
  {
   "cell_type": "code",
   "execution_count": 1,
   "id": "df1d215d",
   "metadata": {},
   "outputs": [
    {
     "name": "stdout",
     "output_type": "stream",
     "text": [
      "[1, 6, 120, 720]\n"
     ]
    }
   ],
   "source": [
    "def fact(n):\n",
    "    if n==1 or n==0:\n",
    "        return 1\n",
    "    else:\n",
    "        return n*fact(n-1)\n",
    "l=[1,3,5,6]\n",
    "print(list(map(fact,l)))"
   ]
  },
  {
   "cell_type": "code",
   "execution_count": 2,
   "id": "a017a8cc",
   "metadata": {},
   "outputs": [
    {
     "name": "stdout",
     "output_type": "stream",
     "text": [
      "[1, 9, 25, 36]\n"
     ]
    }
   ],
   "source": [
    "print(list(map(lambda x:x**2,l)))"
   ]
  },
  {
   "cell_type": "code",
   "execution_count": 5,
   "id": "e2c4cc6f",
   "metadata": {},
   "outputs": [
    {
     "name": "stdout",
     "output_type": "stream",
     "text": [
      "[6, 8, 10, 12]\n"
     ]
    }
   ],
   "source": [
    "l1=[1,2,3,4]\n",
    "l2=[5,6,7,8]\n",
    "print(list(map(lambda x,y:x+y,l1,l2)))"
   ]
  },
  {
   "cell_type": "code",
   "execution_count": 6,
   "id": "3c26ff16",
   "metadata": {},
   "outputs": [
    {
     "name": "stdout",
     "output_type": "stream",
     "text": [
      "[2, 4]\n"
     ]
    }
   ],
   "source": [
    "print(list(filter(lambda x:x%2==0,l1)))"
   ]
  },
  {
   "cell_type": "code",
   "execution_count": 9,
   "id": "7e7f2ed7",
   "metadata": {},
   "outputs": [
    {
     "name": "stdout",
     "output_type": "stream",
     "text": [
      "10\n"
     ]
    }
   ],
   "source": [
    "from functools import reduce\n",
    "l1=[1,2,3,4]\n",
    "print(reduce(lambda x,y:x+y,l1))"
   ]
  },
  {
   "cell_type": "code",
   "execution_count": null,
   "id": "e282b5b7",
   "metadata": {},
   "outputs": [],
   "source": []
  }
 ],
 "metadata": {
  "kernelspec": {
   "display_name": "Python 3 (ipykernel)",
   "language": "python",
   "name": "python3"
  },
  "language_info": {
   "codemirror_mode": {
    "name": "ipython",
    "version": 3
   },
   "file_extension": ".py",
   "mimetype": "text/x-python",
   "name": "python",
   "nbconvert_exporter": "python",
   "pygments_lexer": "ipython3",
   "version": "3.9.7"
  }
 },
 "nbformat": 4,
 "nbformat_minor": 5
}
