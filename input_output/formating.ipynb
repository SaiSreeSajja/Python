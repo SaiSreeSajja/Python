{
 "cells": [
  {
   "cell_type": "code",
   "execution_count": null,
   "metadata": {},
   "outputs": [
    {
     "name": "stdout",
     "output_type": "stream",
     "text": [
      "Age is:00020\n"
     ]
    }
   ],
   "source": [
    "person={'age':20,'name':'sree'}\n",
    "print(\"Age is:{:05d}\".format(person['age']))"
   ]
  },
  {
   "cell_type": "code",
   "execution_count": null,
   "metadata": {},
   "outputs": [
    {
     "name": "stdout",
     "output_type": "stream",
     "text": [
      "sree\n"
     ]
    }
   ],
   "source": [
    "print(\"{p[name]}\".format(p=person))"
   ]
  },
  {
   "cell_type": "code",
   "execution_count": null,
   "metadata": {},
   "outputs": [
    {
     "name": "stdout",
     "output_type": "stream",
     "text": [
      "sree\n"
     ]
    }
   ],
   "source": [
    "print(\"{name}\".format(**person))"
   ]
  },
  {
   "cell_type": "code",
   "execution_count": null,
   "metadata": {},
   "outputs": [
    {
     "name": "stdout",
     "output_type": "stream",
     "text": [
      "sree 20\n"
     ]
    }
   ],
   "source": [
    "class Person:\n",
    "    name=\"sree\"\n",
    "    age=20\n",
    "print(\"{p.name} {p.age}\".format(p=Person()))"
   ]
  },
  {
   "cell_type": "code",
   "execution_count": null,
   "metadata": {},
   "outputs": [
    {
     "name": "stdout",
     "output_type": "stream",
     "text": [
      "hema 21\n"
     ]
    }
   ],
   "source": [
    "class Person:\n",
    "    def __init__(self,name,age):\n",
    "        self.name=name\n",
    "        self.age=age\n",
    "print(\"{p.name} {p.age}\".format(p=Person(\"hema\",21)))"
   ]
  },
  {
   "cell_type": "code",
   "execution_count": null,
   "metadata": {},
   "outputs": [
    {
     "name": "stdout",
     "output_type": "stream",
     "text": [
      "****cat\n"
     ]
    }
   ],
   "source": [
    "s=\"{:{fill}{align}{width}}\"\n",
    "print(s.format('cat',fill='*',align='>',width=7))"
   ]
  },
  {
   "cell_type": "code",
   "execution_count": null,
   "metadata": {},
   "outputs": [
    {
     "name": "stdout",
     "output_type": "stream",
     "text": [
      "16/05/24 19:46:37\n"
     ]
    }
   ],
   "source": [
    "import datetime\n",
    "date=datetime.datetime.now()\n",
    "print(\"{:%d/%m/%y %H:%M:%S}\".format(date))"
   ]
  }
 ],
 "metadata": {
  "language_info": {
   "name": "python"
  }
 },
 "nbformat": 4,
 "nbformat_minor": 2
}
